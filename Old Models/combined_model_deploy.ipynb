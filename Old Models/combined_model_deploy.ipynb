{
 "cells": [
  {
   "cell_type": "code",
   "execution_count": 41,
   "metadata": {},
   "outputs": [],
   "source": [
    "import numpy as np\n",
    "import tensorflow as tf\n",
    "import tensorflow_datasets as tfds\n",
    "import os\n",
    "import numpy as np"
   ]
  },
  {
   "cell_type": "code",
   "execution_count": 42,
   "metadata": {},
   "outputs": [],
   "source": [
    "# Load the TFLite model\n",
    "interpreter = tf.lite.Interpreter(model_path=\"food_model_combined_v2.tflite\")\n",
    "interpreter.allocate_tensors()"
   ]
  },
  {
   "cell_type": "code",
   "execution_count": 43,
   "metadata": {},
   "outputs": [],
   "source": [
    "# Load the dataset info\n",
    "food101_info = tfds.builder('food101').info"
   ]
  },
  {
   "cell_type": "code",
   "execution_count": 44,
   "metadata": {},
   "outputs": [],
   "source": [
    "# Get input and output tensors\n",
    "input_details = interpreter.get_input_details()\n",
    "output_details = interpreter.get_output_details()"
   ]
  },
  {
   "cell_type": "code",
   "execution_count": 45,
   "metadata": {},
   "outputs": [],
   "source": [
    "# Function to preprocess the image\n",
    "def preprocess_image(image_path):\n",
    "    img = tf.io.read_file(image_path)\n",
    "    img = tf.image.decode_jpeg(img, channels=3)\n",
    "    img = tf.image.resize(img, (224, 224))\n",
    "    img = tf.keras.applications.mobilenet_v2.preprocess_input(img)\n",
    "    return img"
   ]
  },
  {
   "cell_type": "code",
   "execution_count": 46,
   "metadata": {},
   "outputs": [],
   "source": [
    "# Load and preprocess a test image\n",
    "image_path = 'carrot_cake.png'\n",
    "image = preprocess_image(image_path)\n",
    "image = tf.expand_dims(image, 0)  "
   ]
  },
  {
   "cell_type": "code",
   "execution_count": 47,
   "metadata": {},
   "outputs": [],
   "source": [
    "# Set the tensor to point to the input data to be inferred\n",
    "interpreter.set_tensor(input_details[0]['index'], image)"
   ]
  },
  {
   "cell_type": "code",
   "execution_count": 48,
   "metadata": {},
   "outputs": [],
   "source": [
    "# Run the inference\n",
    "interpreter.invoke()"
   ]
  },
  {
   "cell_type": "code",
   "execution_count": 49,
   "metadata": {},
   "outputs": [],
   "source": [
    "# Get the output tensor\n",
    "output_data = interpreter.get_tensor(output_details[0]['index'])\n"
   ]
  },
  {
   "cell_type": "code",
   "execution_count": 50,
   "metadata": {},
   "outputs": [],
   "source": [
    "# Get the predicted class\n",
    "predicted_class = np.argmax(output_data)"
   ]
  },
  {
   "cell_type": "code",
   "execution_count": 51,
   "metadata": {},
   "outputs": [
    {
     "name": "stdout",
     "output_type": "stream",
     "text": [
      "Food101 classes: 101\n",
      "First few Food101 classes: ['apple_pie', 'baby_back_ribs', 'baklava', 'beef_carpaccio', 'beef_tartare']\n"
     ]
    }
   ],
   "source": [
    "# Get class names\n",
    "food101_class_names = food101_info.features['label'].names\n",
    "print(\"Food101 classes:\", len(food101_class_names))\n",
    "print(\"First few Food101 classes:\", food101_class_names[:5])"
   ]
  },
  {
   "cell_type": "code",
   "execution_count": 52,
   "metadata": {},
   "outputs": [
    {
     "name": "stdout",
     "output_type": "stream",
     "text": [
      "Fruits-360 classes: 141\n",
      "First few Fruits-360 classes: ['Apple 6', 'Apple Braeburn 1', 'Apple Crimson Snow 1', 'Apple Golden 1', 'Apple Golden 2']\n"
     ]
    }
   ],
   "source": [
    "fruits360_dir = 'fruits-360_dataset_100x100/fruits-360/Training'\n",
    "\n",
    "# Get class names from directory names\n",
    "fruits360_class_names = sorted(os.listdir(fruits360_dir))\n",
    "\n",
    "print(\"Fruits-360 classes:\", len(fruits360_class_names))\n",
    "print(\"First few Fruits-360 classes:\", fruits360_class_names[:5])"
   ]
  },
  {
   "cell_type": "code",
   "execution_count": 53,
   "metadata": {},
   "outputs": [
    {
     "name": "stdout",
     "output_type": "stream",
     "text": [
      "Total classes: 242\n",
      "First few combined classes: ['apple_pie', 'baby_back_ribs', 'baklava', 'beef_carpaccio', 'beef_tartare']\n",
      "Last few combined classes: ['Tomato not Ripened 1', 'Walnut 1', 'Watermelon 1', 'Zucchini 1', 'Zucchini dark 1']\n"
     ]
    }
   ],
   "source": [
    "# Combine the class names\n",
    "all_class_names = food101_class_names + fruits360_class_names\n",
    "\n",
    "print(\"Total classes:\", len(all_class_names))\n",
    "print(\"First few combined classes:\", all_class_names[:5])\n",
    "print(\"Last few combined classes:\", all_class_names[-5:])"
   ]
  },
  {
   "cell_type": "code",
   "execution_count": 54,
   "metadata": {},
   "outputs": [],
   "source": [
    "loaded_class_names = np.load('combined_class_names.npy', allow_pickle=True)"
   ]
  },
  {
   "cell_type": "code",
   "execution_count": 55,
   "metadata": {},
   "outputs": [],
   "source": [
    "def predict_class(model, img):\n",
    "    img_array = tf.keras.preprocessing.image.img_to_array(img)\n",
    "    img_array = tf.expand_dims(img_array, 0)  # Create batch axis\n",
    "    \n",
    "    predictions = model.predict(img_array)\n",
    "    predicted_class = loaded_class_names[np.argmax(predictions[0])]\n",
    "    confidence = np.max(predictions[0])\n",
    "    \n",
    "    print(f\"Predicted class: {predicted_class}\")\n",
    "    print(f\"Confidence: {confidence:.2f}\")"
   ]
  },
  {
   "cell_type": "code",
   "execution_count": 56,
   "metadata": {},
   "outputs": [],
   "source": [
    "# Get the output tensor\n",
    "output_data = interpreter.get_tensor(output_details[0]['index'])"
   ]
  },
  {
   "cell_type": "code",
   "execution_count": 57,
   "metadata": {},
   "outputs": [],
   "source": [
    "# Get the predicted class\n",
    "predicted_class_index = np.argmax(output_data)"
   ]
  },
  {
   "cell_type": "code",
   "execution_count": 58,
   "metadata": {},
   "outputs": [
    {
     "name": "stdout",
     "output_type": "stream",
     "text": [
      "Predicted class index: 14\n",
      "Confidence: 0.8897\n"
     ]
    }
   ],
   "source": [
    "# Print the predicted class and its probability\n",
    "print(f\"Predicted class index: {predicted_class_index}\")\n",
    "print(f\"Confidence: {output_data[0][predicted_class_index]:.4f}\")"
   ]
  },
  {
   "cell_type": "code",
   "execution_count": 59,
   "metadata": {},
   "outputs": [
    {
     "name": "stdout",
     "output_type": "stream",
     "text": [
      "Predicted class name: carrot_cake\n"
     ]
    }
   ],
   "source": [
    "# Get the predicted class name\n",
    "predicted_class_name = all_class_names[predicted_class_index]\n",
    "print(f\"Predicted class name: {predicted_class_name}\")"
   ]
  },
  {
   "cell_type": "code",
   "execution_count": 60,
   "metadata": {},
   "outputs": [
    {
     "name": "stdout",
     "output_type": "stream",
     "text": [
      "\n",
      "Top 5 predictions:\n",
      "1. carrot_cake: 0.8897\n",
      "2. churros: 0.0288\n",
      "3. macarons: 0.0252\n",
      "4. donuts: 0.0165\n",
      "5. fried_calamari: 0.0099\n"
     ]
    }
   ],
   "source": [
    "# Print top 5 predictions\n",
    "top_5_indices = np.argsort(output_data[0])[-5:][::-1]\n",
    "print(\"\\nTop 5 predictions:\")\n",
    "for i, idx in enumerate(top_5_indices, 1):\n",
    "    print(f\"{i}. {all_class_names[idx]}: {output_data[0][idx]:.4f}\")"
   ]
  }
 ],
 "metadata": {
  "kernelspec": {
   "display_name": "Python 3",
   "language": "python",
   "name": "python3"
  },
  "language_info": {
   "codemirror_mode": {
    "name": "ipython",
    "version": 3
   },
   "file_extension": ".py",
   "mimetype": "text/x-python",
   "name": "python",
   "nbconvert_exporter": "python",
   "pygments_lexer": "ipython3",
   "version": "3.12.6"
  }
 },
 "nbformat": 4,
 "nbformat_minor": 2
}
